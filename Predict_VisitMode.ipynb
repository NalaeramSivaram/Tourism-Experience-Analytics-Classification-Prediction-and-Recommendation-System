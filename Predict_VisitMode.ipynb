{
 "cells": [
  {
   "cell_type": "code",
   "execution_count": 1,
   "metadata": {},
   "outputs": [],
   "source": [
    "import pandas as pd\n",
    "import numpy as nu\n",
    "from sklearn.model_selection import train_test_split\n",
    "from sklearn.tree import DecisionTreeClassifier\n",
    "from sklearn.ensemble import RandomForestClassifier\n",
    "import xgboost\n",
    "from xgboost import XGBClassifier\n",
    "from sklearn.metrics import accuracy_score,precision_score,recall_score,f1_score\n",
    "\n",
    "# Load the file\n",
    "Tourism_df=pd.read_csv(\"F:/DS/4th project Tourism Analysis/DATA/Final_Tourim_Table.csv\")"
   ]
  },
  {
   "cell_type": "code",
   "execution_count": 2,
   "metadata": {},
   "outputs": [
    {
     "data": {
      "text/html": [
       "<div>\n",
       "<style scoped>\n",
       "    .dataframe tbody tr th:only-of-type {\n",
       "        vertical-align: middle;\n",
       "    }\n",
       "\n",
       "    .dataframe tbody tr th {\n",
       "        vertical-align: top;\n",
       "    }\n",
       "\n",
       "    .dataframe thead th {\n",
       "        text-align: right;\n",
       "    }\n",
       "</style>\n",
       "<table border=\"1\" class=\"dataframe\">\n",
       "  <thead>\n",
       "    <tr style=\"text-align: right;\">\n",
       "      <th></th>\n",
       "      <th>TransactionId</th>\n",
       "      <th>UserId</th>\n",
       "      <th>VisitYear</th>\n",
       "      <th>VisitMonth</th>\n",
       "      <th>VisitModeId</th>\n",
       "      <th>AttractionId</th>\n",
       "      <th>Rating</th>\n",
       "      <th>ContinentId</th>\n",
       "      <th>RegionId</th>\n",
       "      <th>CountryId</th>\n",
       "      <th>...</th>\n",
       "      <th>Continent</th>\n",
       "      <th>Region</th>\n",
       "      <th>Country</th>\n",
       "      <th>CityName</th>\n",
       "      <th>Attraction</th>\n",
       "      <th>AttractionAddress</th>\n",
       "      <th>AttractionTypeId</th>\n",
       "      <th>AttractionCityId</th>\n",
       "      <th>AttractionType</th>\n",
       "      <th>VisitModeName</th>\n",
       "    </tr>\n",
       "  </thead>\n",
       "  <tbody>\n",
       "    <tr>\n",
       "      <th>0</th>\n",
       "      <td>5661</td>\n",
       "      <td>14</td>\n",
       "      <td>2018</td>\n",
       "      <td>12</td>\n",
       "      <td>4</td>\n",
       "      <td>640</td>\n",
       "      <td>4</td>\n",
       "      <td>5</td>\n",
       "      <td>20</td>\n",
       "      <td>155</td>\n",
       "      <td>...</td>\n",
       "      <td>Europe</td>\n",
       "      <td>Southern Europe</td>\n",
       "      <td>Portugal</td>\n",
       "      <td>Lagos</td>\n",
       "      <td>Sacred Monkey Forest Sanctuary</td>\n",
       "      <td>Jl. Monkey Forest, Ubud 80571 Indonesia</td>\n",
       "      <td>63</td>\n",
       "      <td>1</td>\n",
       "      <td>Nature &amp; Wildlife Areas</td>\n",
       "      <td>Friends</td>\n",
       "    </tr>\n",
       "    <tr>\n",
       "      <th>1</th>\n",
       "      <td>67652</td>\n",
       "      <td>14</td>\n",
       "      <td>2018</td>\n",
       "      <td>12</td>\n",
       "      <td>4</td>\n",
       "      <td>748</td>\n",
       "      <td>5</td>\n",
       "      <td>5</td>\n",
       "      <td>20</td>\n",
       "      <td>155</td>\n",
       "      <td>...</td>\n",
       "      <td>Europe</td>\n",
       "      <td>Southern Europe</td>\n",
       "      <td>Portugal</td>\n",
       "      <td>Lagos</td>\n",
       "      <td>Tegalalang Rice Terrace</td>\n",
       "      <td>Jalan Raya Ceking, Tegalalang 80517 Indonesia</td>\n",
       "      <td>72</td>\n",
       "      <td>1</td>\n",
       "      <td>Points of Interest &amp; Landmarks</td>\n",
       "      <td>Friends</td>\n",
       "    </tr>\n",
       "  </tbody>\n",
       "</table>\n",
       "<p>2 rows × 21 columns</p>\n",
       "</div>"
      ],
      "text/plain": [
       "   TransactionId  UserId  VisitYear  VisitMonth  VisitModeId  AttractionId  \\\n",
       "0           5661      14       2018          12            4           640   \n",
       "1          67652      14       2018          12            4           748   \n",
       "\n",
       "   Rating  ContinentId  RegionId  CountryId  ...  Continent           Region  \\\n",
       "0       4            5        20        155  ...     Europe  Southern Europe   \n",
       "1       5            5        20        155  ...     Europe  Southern Europe   \n",
       "\n",
       "    Country CityName                      Attraction  \\\n",
       "0  Portugal    Lagos  Sacred Monkey Forest Sanctuary   \n",
       "1  Portugal    Lagos         Tegalalang Rice Terrace   \n",
       "\n",
       "                               AttractionAddress AttractionTypeId  \\\n",
       "0        Jl. Monkey Forest, Ubud 80571 Indonesia               63   \n",
       "1  Jalan Raya Ceking, Tegalalang 80517 Indonesia               72   \n",
       "\n",
       "   AttractionCityId                  AttractionType VisitModeName  \n",
       "0                 1         Nature & Wildlife Areas       Friends  \n",
       "1                 1  Points of Interest & Landmarks       Friends  \n",
       "\n",
       "[2 rows x 21 columns]"
      ]
     },
     "execution_count": 2,
     "metadata": {},
     "output_type": "execute_result"
    }
   ],
   "source": [
    "Tourism_df.head(2)"
   ]
  },
  {
   "cell_type": "code",
   "execution_count": 3,
   "metadata": {},
   "outputs": [
    {
     "data": {
      "text/plain": [
       "TransactionId         0\n",
       "UserId                0\n",
       "VisitYear             0\n",
       "VisitMonth            0\n",
       "VisitModeId           0\n",
       "AttractionId          0\n",
       "Rating                0\n",
       "ContinentId           0\n",
       "RegionId              0\n",
       "CountryId             0\n",
       "CityId                0\n",
       "Continent             0\n",
       "Region               23\n",
       "Country               0\n",
       "CityName              0\n",
       "Attraction            0\n",
       "AttractionAddress     0\n",
       "AttractionTypeId      0\n",
       "AttractionCityId      0\n",
       "AttractionType        0\n",
       "VisitModeName         0\n",
       "dtype: int64"
      ]
     },
     "execution_count": 3,
     "metadata": {},
     "output_type": "execute_result"
    }
   ],
   "source": [
    "Tourism_df.isnull().sum()"
   ]
  },
  {
   "cell_type": "code",
   "execution_count": 4,
   "metadata": {},
   "outputs": [
    {
     "name": "stdout",
     "output_type": "stream",
     "text": [
      "After Handling missing Values\n"
     ]
    },
    {
     "name": "stderr",
     "output_type": "stream",
     "text": [
      "C:\\Users\\nsiva\\AppData\\Local\\Temp\\ipykernel_24616\\2562721092.py:1: FutureWarning: A value is trying to be set on a copy of a DataFrame or Series through chained assignment using an inplace method.\n",
      "The behavior will change in pandas 3.0. This inplace method will never work because the intermediate object on which we are setting values always behaves as a copy.\n",
      "\n",
      "For example, when doing 'df[col].method(value, inplace=True)', try using 'df.method({col: value}, inplace=True)' or df[col] = df[col].method(value) instead, to perform the operation inplace on the original object.\n",
      "\n",
      "\n",
      "  Tourism_df['Region'].fillna(Tourism_df['Region'].mode()[0], inplace=True)\n"
     ]
    },
    {
     "data": {
      "text/plain": [
       "TransactionId        0\n",
       "UserId               0\n",
       "VisitYear            0\n",
       "VisitMonth           0\n",
       "VisitModeId          0\n",
       "AttractionId         0\n",
       "Rating               0\n",
       "ContinentId          0\n",
       "RegionId             0\n",
       "CountryId            0\n",
       "CityId               0\n",
       "Continent            0\n",
       "Region               0\n",
       "Country              0\n",
       "CityName             0\n",
       "Attraction           0\n",
       "AttractionAddress    0\n",
       "AttractionTypeId     0\n",
       "AttractionCityId     0\n",
       "AttractionType       0\n",
       "VisitModeName        0\n",
       "dtype: int64"
      ]
     },
     "execution_count": 4,
     "metadata": {},
     "output_type": "execute_result"
    }
   ],
   "source": [
    "Tourism_df['Region'].fillna(Tourism_df['Region'].mode()[0], inplace=True)\n",
    "print(\"After Handling missing Values\")\n",
    "Tourism_df.isnull().sum()"
   ]
  },
  {
   "cell_type": "code",
   "execution_count": 5,
   "metadata": {},
   "outputs": [
    {
     "data": {
      "text/plain": [
       "TransactionId        52922\n",
       "UserId               33526\n",
       "VisitYear               10\n",
       "VisitMonth              12\n",
       "VisitModeId              5\n",
       "AttractionId            30\n",
       "Rating                   5\n",
       "ContinentId              5\n",
       "RegionId                22\n",
       "CountryId              153\n",
       "CityId                5545\n",
       "Continent                5\n",
       "Region                  22\n",
       "Country                153\n",
       "CityName              5543\n",
       "Attraction              30\n",
       "AttractionAddress       25\n",
       "AttractionTypeId        17\n",
       "AttractionCityId         3\n",
       "AttractionType          17\n",
       "VisitModeName            5\n",
       "dtype: int64"
      ]
     },
     "execution_count": 5,
     "metadata": {},
     "output_type": "execute_result"
    }
   ],
   "source": [
    "# Counting unique value in each column\n",
    "Tourism_df.nunique()"
   ]
  },
  {
   "cell_type": "code",
   "execution_count": 6,
   "metadata": {},
   "outputs": [],
   "source": [
    "# IMPORTING SMOTE FOR HANDLING IMBALANCED DATA AND ENCODERS FOR FEATURE TRANSFORMATION  \n",
    "from imblearn.over_sampling import SMOTE\n",
    "from imblearn.combine import SMOTETomek\n",
    "from sklearn.preprocessing import OneHotEncoder, LabelEncoder,StandardScaler\n",
    "from category_encoders import TargetEncoder\n",
    "from sklearn.model_selection import GridSearchCV,RandomizedSearchCV\n",
    "from sklearn.metrics import classification_report,confusion_matrix"
   ]
  },
  {
   "cell_type": "code",
   "execution_count": 7,
   "metadata": {},
   "outputs": [
    {
     "name": "stdout",
     "output_type": "stream",
     "text": [
      "Before SMOTE:\n",
      "1    21617\n",
      "2    15215\n",
      "3    10944\n",
      "4     4523\n",
      "0      623\n",
      "Name: count, dtype: int64\n",
      "\n",
      "After SMOTE:\n",
      "VisitModeName\n",
      "3    21617\n",
      "2    21617\n",
      "1    21617\n",
      "4    21617\n",
      "0    21617\n",
      "Name: count, dtype: int64\n"
     ]
    }
   ],
   "source": [
    "# FEATURE SELECTION, ENCODING CATEGORICAL VARIABLES, AND BALANCING DATA USING SMOTE  \n",
    "#  Step 1: Feature Selection\n",
    "selected_features = [\"UserId\", \"VisitYear\", \"VisitMonth\", \"AttractionId\", \n",
    "                     \"ContinentId\", \"RegionId\", \"CountryId\",\"Attraction\", \"AttractionType\", \"AttractionTypeId\"]\n",
    "\n",
    "X = Tourism_df[selected_features].copy()\n",
    "y = Tourism_df[\"VisitModeName\"]\n",
    "\n",
    "#  Step 2: Encoding Categorical Features\n",
    "categorical_features = [\"Attraction\", \"AttractionType\"]\n",
    "\n",
    "# One-Hot Encoding for categorical features\n",
    "ohe = OneHotEncoder(handle_unknown=\"ignore\", sparse_output=False)\n",
    "encoded_features = ohe.fit_transform(X[categorical_features])\n",
    "encoded_df = pd.DataFrame(encoded_features, columns=ohe.get_feature_names_out(categorical_features))\n",
    "\n",
    "# Label Encoding for target variable (VisitModeName)\n",
    "label_encoder = LabelEncoder()\n",
    "y = pd.Series(label_encoder.fit_transform(y))  # Convert to Pandas Series\n",
    "\n",
    "# Target Encoding for Attraction\n",
    "target_enc = TargetEncoder()\n",
    "X[\"Attraction\"] = target_enc.fit_transform(X[\"Attraction\"], y)\n",
    "\n",
    "# Convert boolean columns to integers\n",
    "bool_cols = X.select_dtypes(include=[\"bool\"]).columns\n",
    "X[bool_cols] = X[bool_cols].astype(int)\n",
    "\n",
    "# Drop original categorical columns and merge encoded ones\n",
    "X = X.drop(columns=categorical_features)\n",
    "X = pd.concat([X.reset_index(drop=True), encoded_df], axis=1)\n",
    "\n",
    "# Step 3: Handle Class Imbalance using SMOTE\n",
    "smote = SMOTE(random_state=42)\n",
    "X_smote, y_smote = smote.fit_resample(X, y)\n",
    "\n",
    "y_smote = pd.DataFrame(y_smote, columns=['VisitModeName'])\n",
    "balanced_tourism_data = pd.concat([X_smote, y_smote], axis=1)\n",
    "\n",
    "\n",
    "\n",
    "print(\"Before SMOTE:\")\n",
    "print(pd.Series(y).value_counts())\n",
    "print(\"\\nAfter SMOTE:\")\n",
    "print(y_smote['VisitModeName'].value_counts())"
   ]
  },
  {
   "cell_type": "code",
   "execution_count": 8,
   "metadata": {},
   "outputs": [],
   "source": [
    "#  Step 4: Train-Test Split\n",
    "X_train, X_test, y_train, y_test = train_test_split(X_smote, y_smote, test_size=0.2, random_state=42)"
   ]
  },
  {
   "cell_type": "code",
   "execution_count": 9,
   "metadata": {},
   "outputs": [],
   "source": [
    "# Feature Scaling (Standardization)\n",
    "scaler = StandardScaler()\n",
    "X_train = scaler.fit_transform(X_train)\n",
    "X_test = scaler.transform(X_test)"
   ]
  },
  {
   "cell_type": "code",
   "execution_count": 10,
   "metadata": {},
   "outputs": [
    {
     "name": "stdout",
     "output_type": "stream",
     "text": [
      "[0 1 1 ... 1 2 0]\n"
     ]
    }
   ],
   "source": [
    "\n",
    "\n",
    "# Train Decision Tree Classifier with max depth of 5\n",
    "dt_model = DecisionTreeClassifier(max_depth=5, random_state=42)\n",
    "dt_model.fit(X_train, y_train)\n",
    "\n",
    "# Predict using the trained Decision Tree model\n",
    "dt_pred = dt_model.predict(X_test)\n",
    "print(dt_pred)\n"
   ]
  },
  {
   "cell_type": "code",
   "execution_count": 11,
   "metadata": {},
   "outputs": [
    {
     "name": "stdout",
     "output_type": "stream",
     "text": [
      " Accuracy: 0.38\n",
      " Precision: 0.43\n",
      " Recall: 0.38\n",
      " F1 Score: 0.32\n"
     ]
    }
   ],
   "source": [
    "#  Step 8: Model Evaluation\n",
    "accuracy = accuracy_score(y_test, dt_pred)\n",
    "precision = precision_score(y_test, dt_pred, average='weighted')\n",
    "recall = recall_score(y_test, dt_pred, average='weighted')\n",
    "f1 = f1_score(y_test, dt_pred, average='weighted')\n",
    "\n",
    "print(f\" Accuracy: {accuracy:.2f}\")\n",
    "print(f\" Precision: {precision:.2f}\")\n",
    "print(f\" Recall: {recall:.2f}\")\n",
    "print(f\" F1 Score: {f1:.2f}\")\n",
    "\n"
   ]
  },
  {
   "cell_type": "code",
   "execution_count": 12,
   "metadata": {},
   "outputs": [
    {
     "name": "stderr",
     "output_type": "stream",
     "text": [
      "c:\\Users\\nsiva\\AppData\\Local\\Programs\\Python\\Python312\\Lib\\site-packages\\sklearn\\base.py:1389: DataConversionWarning: A column-vector y was passed when a 1d array was expected. Please change the shape of y to (n_samples,), for example using ravel().\n",
      "  return fit_method(estimator, *args, **kwargs)\n"
     ]
    },
    {
     "name": "stdout",
     "output_type": "stream",
     "text": [
      "Accuracy: 0.43\n",
      "Precision: 0.46\n",
      "Recall: 0.43\n",
      "\n",
      "Classification Report:\n",
      "              precision    recall  f1-score   support\n",
      "\n",
      "    Business       0.42      0.86      0.57      4353\n",
      "     Couples       0.40      0.67      0.50      4395\n",
      "      Family       0.62      0.26      0.36      4219\n",
      "     Friends       0.42      0.07      0.12      4393\n",
      "        Solo       0.43      0.29      0.35      4257\n",
      "\n",
      "    accuracy                           0.43     21617\n",
      "   macro avg       0.46      0.43      0.38     21617\n",
      "weighted avg       0.46      0.43      0.38     21617\n",
      "\n",
      "\n",
      "Confusion Matrix:\n",
      "[[3763  149   14   58  369]\n",
      " [ 774 2927  293  126  275]\n",
      " [1067 1499 1085  163  405]\n",
      " [1546 1595  314  302  636]\n",
      " [1793 1102   32   76 1254]]\n"
     ]
    }
   ],
   "source": [
    "# Creates and trains a Random Forest classifier with 100 trees, max depth of 5, and fixed random state.  \n",
    "rf_model = RandomForestClassifier(n_estimators=100, max_depth=5, random_state=42)\n",
    "rf_model.fit(X_train, y_train)\n",
    "\n",
    "# Makes predictions on the test data (X_test) using the trained Random Forest model.  \n",
    "rf_pred = rf_model.predict(X_test)\n",
    "rf_pred\n",
    "\n",
    "# Computes evaluation metrics for the model: accuracy, precision, and recall using the test labels (y_test) and predictions (rf_pred).\n",
    "# Prints the results formatted to two decimal places. \n",
    "accuracy = accuracy_score(y_test, rf_pred)\n",
    "precision = precision_score(y_test, rf_pred, average='weighted')\n",
    "recall = recall_score(y_test, rf_pred, average='weighted')\n",
    "\n",
    "print(f\"Accuracy: {accuracy:.2f}\")\n",
    "print(f\"Precision: {precision:.2f}\")\n",
    "print(f\"Recall: {recall:.2f}\")\n",
    "\n",
    "# Classification Report\n",
    "print(\"\\nClassification Report:\")\n",
    "print(classification_report(y_test, rf_pred, target_names=label_encoder.classes_))\n",
    "\n",
    "# Confusion Matrix\n",
    "conf_matrix = confusion_matrix(y_test, rf_pred)\n",
    "print(\"\\nConfusion Matrix:\")\n",
    "print(conf_matrix)"
   ]
  },
  {
   "cell_type": "code",
   "execution_count": 13,
   "metadata": {},
   "outputs": [
    {
     "name": "stdout",
     "output_type": "stream",
     "text": [
      "Accuracy: 0.68\n",
      "Precision: 0.68\n",
      "Recall: 0.68\n"
     ]
    }
   ],
   "source": [
    "# Creates an XGBoost classifier with 50 trees, max depth of 3, and a learning rate of 0.2 for optimized training.  \n",
    "# Trains the model on the training data (X_train, y_train) and makes predictions on the test data (X_test).  \n",
    "\n",
    "xgb_model = XGBClassifier(n_estimators=300, max_depth=7, learning_rate=0.5,subsample=0.8, random_state=42)\n",
    "xgb_model.fit(X_train, y_train)\n",
    "xgb_pred = xgb_model.predict(X_test)\n",
    "\n",
    "# Computes accuracy, precision, and recall for the XGBoost model using test labels (y_test) and predictions (xgb_pred).  \n",
    "# Prints the results formatted to two decimal places.  \n",
    "accuracy = accuracy_score(y_test, xgb_pred)\n",
    "precision = precision_score(y_test, xgb_pred, average='weighted')\n",
    "recall = recall_score(y_test, xgb_pred, average='weighted')\n",
    "print(f\"Accuracy: {accuracy:.2f}\")\n",
    "print(f\"Precision: {precision:.2f}\")\n",
    "print(f\"Recall: {recall:.2f}\")"
   ]
  },
  {
   "cell_type": "code",
   "execution_count": 14,
   "metadata": {},
   "outputs": [
    {
     "name": "stdout",
     "output_type": "stream",
     "text": [
      "Target encoded model saved\n",
      "One-Hot Encoded model saved\n",
      "Lable encoded has been saved\n",
      "Best XGBoost Model has been saved\n"
     ]
    }
   ],
   "source": [
    "import joblib\n",
    "\n",
    "# Saveing model\n",
    "joblib.dump(target_enc,'Target Encoder Model(class).pkl')\n",
    "print(\"Target encoded model saved\")\n",
    "joblib.dump(ohe,'One-Hot Endcoder Model(class).pkl')\n",
    "print(\"One-Hot Encoded model saved\")\n",
    "joblib.dump(label_encoder,'label_encoder(class).pkl')\n",
    "print(\"Lable encoded has been saved\")\n",
    "joblib.dump(xgb_model,'XGBoost model(class).pkl')\n",
    "print(\"Best XGBoost Model has been saved\")"
   ]
  }
 ],
 "metadata": {
  "kernelspec": {
   "display_name": "Python 3",
   "language": "python",
   "name": "python3"
  },
  "language_info": {
   "codemirror_mode": {
    "name": "ipython",
    "version": 3
   },
   "file_extension": ".py",
   "mimetype": "text/x-python",
   "name": "python",
   "nbconvert_exporter": "python",
   "pygments_lexer": "ipython3",
   "version": "3.12.6"
  }
 },
 "nbformat": 4,
 "nbformat_minor": 2
}
